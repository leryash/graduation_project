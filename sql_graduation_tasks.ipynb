{
 "cells": [
  {
   "cell_type": "markdown",
   "id": "9a2a003e",
   "metadata": {},
   "source": [
    "# Анализ базы данных сервиса для чтения книг по подписке"
   ]
  },
  {
   "cell_type": "markdown",
   "id": "54785f59",
   "metadata": {},
   "source": [
    "**Цель:**\n",
    "\n",
    "Провести анализ базы данных крупного сервиса для чтения книг по подписке для последующего формулирования ценностного предложения для нового продукта.\n"
   ]
  },
  {
   "cell_type": "markdown",
   "id": "261fcf87",
   "metadata": {},
   "source": [
    "### Подключение библиотек\n",
    "\n",
    "Подключим необходимые для работы библиотеки."
   ]
  },
  {
   "cell_type": "code",
   "execution_count": 1,
   "id": "beff457b",
   "metadata": {},
   "outputs": [],
   "source": [
    "import pandas as pd\n",
    "import sqlalchemy as sa"
   ]
  },
  {
   "cell_type": "markdown",
   "id": "6bac9243",
   "metadata": {},
   "source": [
    "### Подключение к базе данных\n",
    "\n",
    "Установим необходимые параметры и напишем функцию для выполнения SQL-запроса."
   ]
  },
  {
   "cell_type": "code",
   "execution_count": 2,
   "id": "47483790",
   "metadata": {},
   "outputs": [],
   "source": [
    "# устанавливаем параметры\n",
    "db_config = {\n",
    "    'user': 'praktikum_student', # имя пользователя\n",
    "    'pwd': 'Sdf4$2;d-d30pp', # пароль\n",
    "    'host': 'rc1b-wcoijxj3yxfsf3fs.mdb.yandexcloud.net',\n",
    "    'port': 6432, # порт подключения\n",
    "    'db': 'data-analyst-final-project-db' # название базы данных\n",
    "}\n",
    "connection_string = 'postgresql://{user}:{pwd}@{host}:{port}/{db}'.format(**db_config)\n",
    "\n",
    "# сохраняем коннектор\n",
    "engine = sa.create_engine(connection_string, connect_args={'sslmode':'require'})\n",
    "\n",
    "# чтобы выполнить SQL-запрос, пишем функцию с использованием Pandas\n",
    "def get_sql_data(query:str, engine:sa.engine.base.Engine=engine) -> pd.DataFrame:\n",
    "    '''Открываем соединение, получаем данные из sql, закрываем соединение'''\n",
    "    with engine.connect() as con:\n",
    "        return pd.read_sql(sql=sa.text(query), con = con)"
   ]
  },
  {
   "cell_type": "markdown",
   "id": "23407d77",
   "metadata": {},
   "source": [
    "### Обзор базы данных\n",
    "\n",
    "Проведем обзор таблиц базы данных. Для удобства напишем две функции: одна будет выводить первые строки таблицы, вторая - количество строк в таблице."
   ]
  },
  {
   "cell_type": "code",
   "execution_count": 3,
   "id": "69db4103",
   "metadata": {},
   "outputs": [],
   "source": [
    "#Выведем первые 5 строк таблицы\n",
    "def first_lines_table(table, table_id):\n",
    "    query = '''\n",
    "    SELECT * \n",
    "    FROM %s \n",
    "    ORDER BY %s ASC \n",
    "    LIMIT 5;''' % (table, table_id)\n",
    "    return get_sql_data(query).style.set_caption('Таблица %s' % (table))"
   ]
  },
  {
   "cell_type": "code",
   "execution_count": 4,
   "id": "ff2398c9",
   "metadata": {},
   "outputs": [],
   "source": [
    "#Выведем кол-во строк таблицы\n",
    "def col_number(table):\n",
    "    query = '''\n",
    "    SELECT count(*) \n",
    "    FROM %s;''' % (table)\n",
    "    return get_sql_data(query).style.set_caption('Кол-во строк в %s' % (table))"
   ]
  },
  {
   "cell_type": "code",
   "execution_count": 5,
   "id": "181a5900",
   "metadata": {},
   "outputs": [
    {
     "data": {
      "text/html": [
       "<style type=\"text/css\">\n",
       "</style>\n",
       "<table id=\"T_4cebd\">\n",
       "  <caption>Таблица books</caption>\n",
       "  <thead>\n",
       "    <tr>\n",
       "      <th class=\"blank level0\" >&nbsp;</th>\n",
       "      <th id=\"T_4cebd_level0_col0\" class=\"col_heading level0 col0\" >book_id</th>\n",
       "      <th id=\"T_4cebd_level0_col1\" class=\"col_heading level0 col1\" >author_id</th>\n",
       "      <th id=\"T_4cebd_level0_col2\" class=\"col_heading level0 col2\" >title</th>\n",
       "      <th id=\"T_4cebd_level0_col3\" class=\"col_heading level0 col3\" >num_pages</th>\n",
       "      <th id=\"T_4cebd_level0_col4\" class=\"col_heading level0 col4\" >publication_date</th>\n",
       "      <th id=\"T_4cebd_level0_col5\" class=\"col_heading level0 col5\" >publisher_id</th>\n",
       "    </tr>\n",
       "  </thead>\n",
       "  <tbody>\n",
       "    <tr>\n",
       "      <th id=\"T_4cebd_level0_row0\" class=\"row_heading level0 row0\" >0</th>\n",
       "      <td id=\"T_4cebd_row0_col0\" class=\"data row0 col0\" >1</td>\n",
       "      <td id=\"T_4cebd_row0_col1\" class=\"data row0 col1\" >546</td>\n",
       "      <td id=\"T_4cebd_row0_col2\" class=\"data row0 col2\" >'Salem's Lot</td>\n",
       "      <td id=\"T_4cebd_row0_col3\" class=\"data row0 col3\" >594</td>\n",
       "      <td id=\"T_4cebd_row0_col4\" class=\"data row0 col4\" >2005-11-01</td>\n",
       "      <td id=\"T_4cebd_row0_col5\" class=\"data row0 col5\" >93</td>\n",
       "    </tr>\n",
       "    <tr>\n",
       "      <th id=\"T_4cebd_level0_row1\" class=\"row_heading level0 row1\" >1</th>\n",
       "      <td id=\"T_4cebd_row1_col0\" class=\"data row1 col0\" >2</td>\n",
       "      <td id=\"T_4cebd_row1_col1\" class=\"data row1 col1\" >465</td>\n",
       "      <td id=\"T_4cebd_row1_col2\" class=\"data row1 col2\" >1 000 Places to See Before You Die</td>\n",
       "      <td id=\"T_4cebd_row1_col3\" class=\"data row1 col3\" >992</td>\n",
       "      <td id=\"T_4cebd_row1_col4\" class=\"data row1 col4\" >2003-05-22</td>\n",
       "      <td id=\"T_4cebd_row1_col5\" class=\"data row1 col5\" >336</td>\n",
       "    </tr>\n",
       "    <tr>\n",
       "      <th id=\"T_4cebd_level0_row2\" class=\"row_heading level0 row2\" >2</th>\n",
       "      <td id=\"T_4cebd_row2_col0\" class=\"data row2 col0\" >3</td>\n",
       "      <td id=\"T_4cebd_row2_col1\" class=\"data row2 col1\" >407</td>\n",
       "      <td id=\"T_4cebd_row2_col2\" class=\"data row2 col2\" >13 Little Blue Envelopes (Little Blue Envelope  #1)</td>\n",
       "      <td id=\"T_4cebd_row2_col3\" class=\"data row2 col3\" >322</td>\n",
       "      <td id=\"T_4cebd_row2_col4\" class=\"data row2 col4\" >2010-12-21</td>\n",
       "      <td id=\"T_4cebd_row2_col5\" class=\"data row2 col5\" >135</td>\n",
       "    </tr>\n",
       "    <tr>\n",
       "      <th id=\"T_4cebd_level0_row3\" class=\"row_heading level0 row3\" >3</th>\n",
       "      <td id=\"T_4cebd_row3_col0\" class=\"data row3 col0\" >4</td>\n",
       "      <td id=\"T_4cebd_row3_col1\" class=\"data row3 col1\" >82</td>\n",
       "      <td id=\"T_4cebd_row3_col2\" class=\"data row3 col2\" >1491: New Revelations of the Americas Before Columbus</td>\n",
       "      <td id=\"T_4cebd_row3_col3\" class=\"data row3 col3\" >541</td>\n",
       "      <td id=\"T_4cebd_row3_col4\" class=\"data row3 col4\" >2006-10-10</td>\n",
       "      <td id=\"T_4cebd_row3_col5\" class=\"data row3 col5\" >309</td>\n",
       "    </tr>\n",
       "    <tr>\n",
       "      <th id=\"T_4cebd_level0_row4\" class=\"row_heading level0 row4\" >4</th>\n",
       "      <td id=\"T_4cebd_row4_col0\" class=\"data row4 col0\" >5</td>\n",
       "      <td id=\"T_4cebd_row4_col1\" class=\"data row4 col1\" >125</td>\n",
       "      <td id=\"T_4cebd_row4_col2\" class=\"data row4 col2\" >1776</td>\n",
       "      <td id=\"T_4cebd_row4_col3\" class=\"data row4 col3\" >386</td>\n",
       "      <td id=\"T_4cebd_row4_col4\" class=\"data row4 col4\" >2006-07-04</td>\n",
       "      <td id=\"T_4cebd_row4_col5\" class=\"data row4 col5\" >268</td>\n",
       "    </tr>\n",
       "  </tbody>\n",
       "</table>\n"
      ],
      "text/plain": [
       "<pandas.io.formats.style.Styler at 0x1f3cee1c3d0>"
      ]
     },
     "metadata": {},
     "output_type": "display_data"
    },
    {
     "data": {
      "text/html": [
       "<style type=\"text/css\">\n",
       "</style>\n",
       "<table id=\"T_2f56a\">\n",
       "  <caption>Кол-во строк в books</caption>\n",
       "  <thead>\n",
       "    <tr>\n",
       "      <th class=\"blank level0\" >&nbsp;</th>\n",
       "      <th id=\"T_2f56a_level0_col0\" class=\"col_heading level0 col0\" >count</th>\n",
       "    </tr>\n",
       "  </thead>\n",
       "  <tbody>\n",
       "    <tr>\n",
       "      <th id=\"T_2f56a_level0_row0\" class=\"row_heading level0 row0\" >0</th>\n",
       "      <td id=\"T_2f56a_row0_col0\" class=\"data row0 col0\" >1000</td>\n",
       "    </tr>\n",
       "  </tbody>\n",
       "</table>\n"
      ],
      "text/plain": [
       "<pandas.io.formats.style.Styler at 0x1f3d308a710>"
      ]
     },
     "metadata": {},
     "output_type": "display_data"
    }
   ],
   "source": [
    "display(first_lines_table(\"books\", \"book_id\"), col_number(\"books\"))"
   ]
  },
  {
   "cell_type": "code",
   "execution_count": 6,
   "id": "8c5702ad",
   "metadata": {},
   "outputs": [
    {
     "data": {
      "text/html": [
       "<style type=\"text/css\">\n",
       "</style>\n",
       "<table id=\"T_e2f97\">\n",
       "  <caption>Таблица authors</caption>\n",
       "  <thead>\n",
       "    <tr>\n",
       "      <th class=\"blank level0\" >&nbsp;</th>\n",
       "      <th id=\"T_e2f97_level0_col0\" class=\"col_heading level0 col0\" >author_id</th>\n",
       "      <th id=\"T_e2f97_level0_col1\" class=\"col_heading level0 col1\" >author</th>\n",
       "    </tr>\n",
       "  </thead>\n",
       "  <tbody>\n",
       "    <tr>\n",
       "      <th id=\"T_e2f97_level0_row0\" class=\"row_heading level0 row0\" >0</th>\n",
       "      <td id=\"T_e2f97_row0_col0\" class=\"data row0 col0\" >1</td>\n",
       "      <td id=\"T_e2f97_row0_col1\" class=\"data row0 col1\" >A.S. Byatt</td>\n",
       "    </tr>\n",
       "    <tr>\n",
       "      <th id=\"T_e2f97_level0_row1\" class=\"row_heading level0 row1\" >1</th>\n",
       "      <td id=\"T_e2f97_row1_col0\" class=\"data row1 col0\" >2</td>\n",
       "      <td id=\"T_e2f97_row1_col1\" class=\"data row1 col1\" >Aesop/Laura Harris/Laura Gibbs</td>\n",
       "    </tr>\n",
       "    <tr>\n",
       "      <th id=\"T_e2f97_level0_row2\" class=\"row_heading level0 row2\" >2</th>\n",
       "      <td id=\"T_e2f97_row2_col0\" class=\"data row2 col0\" >3</td>\n",
       "      <td id=\"T_e2f97_row2_col1\" class=\"data row2 col1\" >Agatha Christie</td>\n",
       "    </tr>\n",
       "    <tr>\n",
       "      <th id=\"T_e2f97_level0_row3\" class=\"row_heading level0 row3\" >3</th>\n",
       "      <td id=\"T_e2f97_row3_col0\" class=\"data row3 col0\" >4</td>\n",
       "      <td id=\"T_e2f97_row3_col1\" class=\"data row3 col1\" >Alan Brennert</td>\n",
       "    </tr>\n",
       "    <tr>\n",
       "      <th id=\"T_e2f97_level0_row4\" class=\"row_heading level0 row4\" >4</th>\n",
       "      <td id=\"T_e2f97_row4_col0\" class=\"data row4 col0\" >5</td>\n",
       "      <td id=\"T_e2f97_row4_col1\" class=\"data row4 col1\" >Alan Moore/David   Lloyd</td>\n",
       "    </tr>\n",
       "  </tbody>\n",
       "</table>\n"
      ],
      "text/plain": [
       "<pandas.io.formats.style.Styler at 0x1f3d27b4d10>"
      ]
     },
     "metadata": {},
     "output_type": "display_data"
    },
    {
     "data": {
      "text/html": [
       "<style type=\"text/css\">\n",
       "</style>\n",
       "<table id=\"T_16d06\">\n",
       "  <caption>Кол-во строк в authors</caption>\n",
       "  <thead>\n",
       "    <tr>\n",
       "      <th class=\"blank level0\" >&nbsp;</th>\n",
       "      <th id=\"T_16d06_level0_col0\" class=\"col_heading level0 col0\" >count</th>\n",
       "    </tr>\n",
       "  </thead>\n",
       "  <tbody>\n",
       "    <tr>\n",
       "      <th id=\"T_16d06_level0_row0\" class=\"row_heading level0 row0\" >0</th>\n",
       "      <td id=\"T_16d06_row0_col0\" class=\"data row0 col0\" >636</td>\n",
       "    </tr>\n",
       "  </tbody>\n",
       "</table>\n"
      ],
      "text/plain": [
       "<pandas.io.formats.style.Styler at 0x1f3d2d6edd0>"
      ]
     },
     "metadata": {},
     "output_type": "display_data"
    }
   ],
   "source": [
    "display(first_lines_table(\"authors\", \"author_id\"), col_number(\"authors\"))"
   ]
  },
  {
   "cell_type": "code",
   "execution_count": 7,
   "id": "5a01c34a",
   "metadata": {},
   "outputs": [
    {
     "data": {
      "text/html": [
       "<style type=\"text/css\">\n",
       "</style>\n",
       "<table id=\"T_9c9e3\">\n",
       "  <caption>Таблица ratings</caption>\n",
       "  <thead>\n",
       "    <tr>\n",
       "      <th class=\"blank level0\" >&nbsp;</th>\n",
       "      <th id=\"T_9c9e3_level0_col0\" class=\"col_heading level0 col0\" >rating_id</th>\n",
       "      <th id=\"T_9c9e3_level0_col1\" class=\"col_heading level0 col1\" >book_id</th>\n",
       "      <th id=\"T_9c9e3_level0_col2\" class=\"col_heading level0 col2\" >username</th>\n",
       "      <th id=\"T_9c9e3_level0_col3\" class=\"col_heading level0 col3\" >rating</th>\n",
       "    </tr>\n",
       "  </thead>\n",
       "  <tbody>\n",
       "    <tr>\n",
       "      <th id=\"T_9c9e3_level0_row0\" class=\"row_heading level0 row0\" >0</th>\n",
       "      <td id=\"T_9c9e3_row0_col0\" class=\"data row0 col0\" >1</td>\n",
       "      <td id=\"T_9c9e3_row0_col1\" class=\"data row0 col1\" >1</td>\n",
       "      <td id=\"T_9c9e3_row0_col2\" class=\"data row0 col2\" >ryanfranco</td>\n",
       "      <td id=\"T_9c9e3_row0_col3\" class=\"data row0 col3\" >4</td>\n",
       "    </tr>\n",
       "    <tr>\n",
       "      <th id=\"T_9c9e3_level0_row1\" class=\"row_heading level0 row1\" >1</th>\n",
       "      <td id=\"T_9c9e3_row1_col0\" class=\"data row1 col0\" >2</td>\n",
       "      <td id=\"T_9c9e3_row1_col1\" class=\"data row1 col1\" >1</td>\n",
       "      <td id=\"T_9c9e3_row1_col2\" class=\"data row1 col2\" >grantpatricia</td>\n",
       "      <td id=\"T_9c9e3_row1_col3\" class=\"data row1 col3\" >2</td>\n",
       "    </tr>\n",
       "    <tr>\n",
       "      <th id=\"T_9c9e3_level0_row2\" class=\"row_heading level0 row2\" >2</th>\n",
       "      <td id=\"T_9c9e3_row2_col0\" class=\"data row2 col0\" >3</td>\n",
       "      <td id=\"T_9c9e3_row2_col1\" class=\"data row2 col1\" >1</td>\n",
       "      <td id=\"T_9c9e3_row2_col2\" class=\"data row2 col2\" >brandtandrea</td>\n",
       "      <td id=\"T_9c9e3_row2_col3\" class=\"data row2 col3\" >5</td>\n",
       "    </tr>\n",
       "    <tr>\n",
       "      <th id=\"T_9c9e3_level0_row3\" class=\"row_heading level0 row3\" >3</th>\n",
       "      <td id=\"T_9c9e3_row3_col0\" class=\"data row3 col0\" >4</td>\n",
       "      <td id=\"T_9c9e3_row3_col1\" class=\"data row3 col1\" >2</td>\n",
       "      <td id=\"T_9c9e3_row3_col2\" class=\"data row3 col2\" >lorichen</td>\n",
       "      <td id=\"T_9c9e3_row3_col3\" class=\"data row3 col3\" >3</td>\n",
       "    </tr>\n",
       "    <tr>\n",
       "      <th id=\"T_9c9e3_level0_row4\" class=\"row_heading level0 row4\" >4</th>\n",
       "      <td id=\"T_9c9e3_row4_col0\" class=\"data row4 col0\" >5</td>\n",
       "      <td id=\"T_9c9e3_row4_col1\" class=\"data row4 col1\" >2</td>\n",
       "      <td id=\"T_9c9e3_row4_col2\" class=\"data row4 col2\" >mariokeller</td>\n",
       "      <td id=\"T_9c9e3_row4_col3\" class=\"data row4 col3\" >2</td>\n",
       "    </tr>\n",
       "  </tbody>\n",
       "</table>\n"
      ],
      "text/plain": [
       "<pandas.io.formats.style.Styler at 0x1f3d0616850>"
      ]
     },
     "metadata": {},
     "output_type": "display_data"
    },
    {
     "data": {
      "text/html": [
       "<style type=\"text/css\">\n",
       "</style>\n",
       "<table id=\"T_13daa\">\n",
       "  <caption>Кол-во строк в ratings</caption>\n",
       "  <thead>\n",
       "    <tr>\n",
       "      <th class=\"blank level0\" >&nbsp;</th>\n",
       "      <th id=\"T_13daa_level0_col0\" class=\"col_heading level0 col0\" >count</th>\n",
       "    </tr>\n",
       "  </thead>\n",
       "  <tbody>\n",
       "    <tr>\n",
       "      <th id=\"T_13daa_level0_row0\" class=\"row_heading level0 row0\" >0</th>\n",
       "      <td id=\"T_13daa_row0_col0\" class=\"data row0 col0\" >6456</td>\n",
       "    </tr>\n",
       "  </tbody>\n",
       "</table>\n"
      ],
      "text/plain": [
       "<pandas.io.formats.style.Styler at 0x1f3d2f6d210>"
      ]
     },
     "metadata": {},
     "output_type": "display_data"
    }
   ],
   "source": [
    "display(first_lines_table(\"ratings\", \"rating_id\"), col_number(\"ratings\"))"
   ]
  },
  {
   "cell_type": "code",
   "execution_count": 8,
   "id": "72c572d0",
   "metadata": {},
   "outputs": [
    {
     "data": {
      "text/html": [
       "<style type=\"text/css\">\n",
       "</style>\n",
       "<table id=\"T_3f0b3\">\n",
       "  <caption>Таблица reviews</caption>\n",
       "  <thead>\n",
       "    <tr>\n",
       "      <th class=\"blank level0\" >&nbsp;</th>\n",
       "      <th id=\"T_3f0b3_level0_col0\" class=\"col_heading level0 col0\" >review_id</th>\n",
       "      <th id=\"T_3f0b3_level0_col1\" class=\"col_heading level0 col1\" >book_id</th>\n",
       "      <th id=\"T_3f0b3_level0_col2\" class=\"col_heading level0 col2\" >username</th>\n",
       "      <th id=\"T_3f0b3_level0_col3\" class=\"col_heading level0 col3\" >text</th>\n",
       "    </tr>\n",
       "  </thead>\n",
       "  <tbody>\n",
       "    <tr>\n",
       "      <th id=\"T_3f0b3_level0_row0\" class=\"row_heading level0 row0\" >0</th>\n",
       "      <td id=\"T_3f0b3_row0_col0\" class=\"data row0 col0\" >1</td>\n",
       "      <td id=\"T_3f0b3_row0_col1\" class=\"data row0 col1\" >1</td>\n",
       "      <td id=\"T_3f0b3_row0_col2\" class=\"data row0 col2\" >brandtandrea</td>\n",
       "      <td id=\"T_3f0b3_row0_col3\" class=\"data row0 col3\" >Mention society tell send professor analysis. Over provide race technology continue these.</td>\n",
       "    </tr>\n",
       "    <tr>\n",
       "      <th id=\"T_3f0b3_level0_row1\" class=\"row_heading level0 row1\" >1</th>\n",
       "      <td id=\"T_3f0b3_row1_col0\" class=\"data row1 col0\" >2</td>\n",
       "      <td id=\"T_3f0b3_row1_col1\" class=\"data row1 col1\" >1</td>\n",
       "      <td id=\"T_3f0b3_row1_col2\" class=\"data row1 col2\" >ryanfranco</td>\n",
       "      <td id=\"T_3f0b3_row1_col3\" class=\"data row1 col3\" >Foot glass pretty audience hit themselves. Among admit investment argue security.</td>\n",
       "    </tr>\n",
       "    <tr>\n",
       "      <th id=\"T_3f0b3_level0_row2\" class=\"row_heading level0 row2\" >2</th>\n",
       "      <td id=\"T_3f0b3_row2_col0\" class=\"data row2 col0\" >3</td>\n",
       "      <td id=\"T_3f0b3_row2_col1\" class=\"data row2 col1\" >2</td>\n",
       "      <td id=\"T_3f0b3_row2_col2\" class=\"data row2 col2\" >lorichen</td>\n",
       "      <td id=\"T_3f0b3_row2_col3\" class=\"data row2 col3\" >Listen treat keep worry. Miss husband tax but person sport treatment industry. Kitchen decision deep the. Social party body the.</td>\n",
       "    </tr>\n",
       "    <tr>\n",
       "      <th id=\"T_3f0b3_level0_row3\" class=\"row_heading level0 row3\" >3</th>\n",
       "      <td id=\"T_3f0b3_row3_col0\" class=\"data row3 col0\" >4</td>\n",
       "      <td id=\"T_3f0b3_row3_col1\" class=\"data row3 col1\" >3</td>\n",
       "      <td id=\"T_3f0b3_row3_col2\" class=\"data row3 col2\" >johnsonamanda</td>\n",
       "      <td id=\"T_3f0b3_row3_col3\" class=\"data row3 col3\" >Finally month interesting blue could nature cultural bit. Prepare beat finish grow that smile teach. Dream me play near.</td>\n",
       "    </tr>\n",
       "    <tr>\n",
       "      <th id=\"T_3f0b3_level0_row4\" class=\"row_heading level0 row4\" >4</th>\n",
       "      <td id=\"T_3f0b3_row4_col0\" class=\"data row4 col0\" >5</td>\n",
       "      <td id=\"T_3f0b3_row4_col1\" class=\"data row4 col1\" >3</td>\n",
       "      <td id=\"T_3f0b3_row4_col2\" class=\"data row4 col2\" >scotttamara</td>\n",
       "      <td id=\"T_3f0b3_row4_col3\" class=\"data row4 col3\" >Nation purpose heavy give wait song will. List dinner another whole positive radio fast. Music staff many green.</td>\n",
       "    </tr>\n",
       "  </tbody>\n",
       "</table>\n"
      ],
      "text/plain": [
       "<pandas.io.formats.style.Styler at 0x1f3d2d95d90>"
      ]
     },
     "metadata": {},
     "output_type": "display_data"
    },
    {
     "data": {
      "text/html": [
       "<style type=\"text/css\">\n",
       "</style>\n",
       "<table id=\"T_b4c3b\">\n",
       "  <caption>Кол-во строк в reviews</caption>\n",
       "  <thead>\n",
       "    <tr>\n",
       "      <th class=\"blank level0\" >&nbsp;</th>\n",
       "      <th id=\"T_b4c3b_level0_col0\" class=\"col_heading level0 col0\" >count</th>\n",
       "    </tr>\n",
       "  </thead>\n",
       "  <tbody>\n",
       "    <tr>\n",
       "      <th id=\"T_b4c3b_level0_row0\" class=\"row_heading level0 row0\" >0</th>\n",
       "      <td id=\"T_b4c3b_row0_col0\" class=\"data row0 col0\" >2793</td>\n",
       "    </tr>\n",
       "  </tbody>\n",
       "</table>\n"
      ],
      "text/plain": [
       "<pandas.io.formats.style.Styler at 0x1f3d27a6810>"
      ]
     },
     "metadata": {},
     "output_type": "display_data"
    }
   ],
   "source": [
    "display(first_lines_table(\"reviews\", \"review_id\"), col_number(\"reviews\"))"
   ]
  },
  {
   "cell_type": "code",
   "execution_count": 9,
   "id": "58588e07",
   "metadata": {},
   "outputs": [
    {
     "data": {
      "text/html": [
       "<style type=\"text/css\">\n",
       "</style>\n",
       "<table id=\"T_74b34\">\n",
       "  <caption>Таблица publishers</caption>\n",
       "  <thead>\n",
       "    <tr>\n",
       "      <th class=\"blank level0\" >&nbsp;</th>\n",
       "      <th id=\"T_74b34_level0_col0\" class=\"col_heading level0 col0\" >publisher_id</th>\n",
       "      <th id=\"T_74b34_level0_col1\" class=\"col_heading level0 col1\" >publisher</th>\n",
       "    </tr>\n",
       "  </thead>\n",
       "  <tbody>\n",
       "    <tr>\n",
       "      <th id=\"T_74b34_level0_row0\" class=\"row_heading level0 row0\" >0</th>\n",
       "      <td id=\"T_74b34_row0_col0\" class=\"data row0 col0\" >1</td>\n",
       "      <td id=\"T_74b34_row0_col1\" class=\"data row0 col1\" >Ace</td>\n",
       "    </tr>\n",
       "    <tr>\n",
       "      <th id=\"T_74b34_level0_row1\" class=\"row_heading level0 row1\" >1</th>\n",
       "      <td id=\"T_74b34_row1_col0\" class=\"data row1 col0\" >2</td>\n",
       "      <td id=\"T_74b34_row1_col1\" class=\"data row1 col1\" >Ace Book</td>\n",
       "    </tr>\n",
       "    <tr>\n",
       "      <th id=\"T_74b34_level0_row2\" class=\"row_heading level0 row2\" >2</th>\n",
       "      <td id=\"T_74b34_row2_col0\" class=\"data row2 col0\" >3</td>\n",
       "      <td id=\"T_74b34_row2_col1\" class=\"data row2 col1\" >Ace Books</td>\n",
       "    </tr>\n",
       "    <tr>\n",
       "      <th id=\"T_74b34_level0_row3\" class=\"row_heading level0 row3\" >3</th>\n",
       "      <td id=\"T_74b34_row3_col0\" class=\"data row3 col0\" >4</td>\n",
       "      <td id=\"T_74b34_row3_col1\" class=\"data row3 col1\" >Ace Hardcover</td>\n",
       "    </tr>\n",
       "    <tr>\n",
       "      <th id=\"T_74b34_level0_row4\" class=\"row_heading level0 row4\" >4</th>\n",
       "      <td id=\"T_74b34_row4_col0\" class=\"data row4 col0\" >5</td>\n",
       "      <td id=\"T_74b34_row4_col1\" class=\"data row4 col1\" >Addison Wesley Publishing Company</td>\n",
       "    </tr>\n",
       "  </tbody>\n",
       "</table>\n"
      ],
      "text/plain": [
       "<pandas.io.formats.style.Styler at 0x1f3d2ffee50>"
      ]
     },
     "metadata": {},
     "output_type": "display_data"
    },
    {
     "data": {
      "text/html": [
       "<style type=\"text/css\">\n",
       "</style>\n",
       "<table id=\"T_b4789\">\n",
       "  <caption>Кол-во строк в publishers</caption>\n",
       "  <thead>\n",
       "    <tr>\n",
       "      <th class=\"blank level0\" >&nbsp;</th>\n",
       "      <th id=\"T_b4789_level0_col0\" class=\"col_heading level0 col0\" >count</th>\n",
       "    </tr>\n",
       "  </thead>\n",
       "  <tbody>\n",
       "    <tr>\n",
       "      <th id=\"T_b4789_level0_row0\" class=\"row_heading level0 row0\" >0</th>\n",
       "      <td id=\"T_b4789_row0_col0\" class=\"data row0 col0\" >340</td>\n",
       "    </tr>\n",
       "  </tbody>\n",
       "</table>\n"
      ],
      "text/plain": [
       "<pandas.io.formats.style.Styler at 0x1f3d27a6810>"
      ]
     },
     "metadata": {},
     "output_type": "display_data"
    }
   ],
   "source": [
    "display(first_lines_table(\"publishers\", \"publisher_id\"), col_number(\"publishers\"))"
   ]
  },
  {
   "cell_type": "markdown",
   "id": "069bd5d4",
   "metadata": {},
   "source": [
    "**Вывод:**\n",
    "\n",
    "Таблицы базы данных соответствуют описаниям и обозначенной структуре. Количество столбцов и данные, содержащиеся в таблицах также соответсвуют. \n",
    "\n",
    "При изучении таблиц было выяснено, что в приложении сервиса содержится 1000 книг, написанных 636 авторами."
   ]
  },
  {
   "cell_type": "markdown",
   "id": "43ffbb73",
   "metadata": {},
   "source": [
    "### Задания\n",
    "\n",
    "**Посчитаем, сколько книг вышло после 1 января 2000 года**"
   ]
  },
  {
   "cell_type": "code",
   "execution_count": 10,
   "id": "1e9eb90f",
   "metadata": {},
   "outputs": [
    {
     "data": {
      "text/html": [
       "<style type=\"text/css\">\n",
       "</style>\n",
       "<table id=\"T_4da20\">\n",
       "  <caption>Кол-во книг</caption>\n",
       "  <thead>\n",
       "    <tr>\n",
       "      <th class=\"blank level0\" >&nbsp;</th>\n",
       "      <th id=\"T_4da20_level0_col0\" class=\"col_heading level0 col0\" >count</th>\n",
       "    </tr>\n",
       "  </thead>\n",
       "  <tbody>\n",
       "    <tr>\n",
       "      <th id=\"T_4da20_level0_row0\" class=\"row_heading level0 row0\" >0</th>\n",
       "      <td id=\"T_4da20_row0_col0\" class=\"data row0 col0\" >819</td>\n",
       "    </tr>\n",
       "  </tbody>\n",
       "</table>\n"
      ],
      "text/plain": [
       "<pandas.io.formats.style.Styler at 0x1f3d304db90>"
      ]
     },
     "execution_count": 10,
     "metadata": {},
     "output_type": "execute_result"
    }
   ],
   "source": [
    "query = '''\n",
    "SELECT count(book_id) \n",
    "FROM books \n",
    "WHERE publication_date > '2000-01-01';'''\n",
    "get_sql_data(query).style.set_caption('Кол-во книг')"
   ]
  },
  {
   "cell_type": "markdown",
   "id": "aaf3fb2e",
   "metadata": {},
   "source": [
    "После 1 января 2000 года вышло 819 книг и брошюр."
   ]
  },
  {
   "cell_type": "markdown",
   "id": "eee6174a",
   "metadata": {},
   "source": [
    "**Для каждой книги посчитаем количество обзоров и среднюю оценку**"
   ]
  },
  {
   "cell_type": "code",
   "execution_count": 14,
   "id": "10f6a4ea",
   "metadata": {},
   "outputs": [
    {
     "data": {
      "text/html": [
       "<style type=\"text/css\">\n",
       "</style>\n",
       "<table id=\"T_29cbc\">\n",
       "  <caption>Кол-во обзоров и средняя оценка книг</caption>\n",
       "  <thead>\n",
       "    <tr>\n",
       "      <th class=\"blank level0\" >&nbsp;</th>\n",
       "      <th id=\"T_29cbc_level0_col0\" class=\"col_heading level0 col0\" >book_id</th>\n",
       "      <th id=\"T_29cbc_level0_col1\" class=\"col_heading level0 col1\" >title</th>\n",
       "      <th id=\"T_29cbc_level0_col2\" class=\"col_heading level0 col2\" >cnt_reviews</th>\n",
       "      <th id=\"T_29cbc_level0_col3\" class=\"col_heading level0 col3\" >avg_rating</th>\n",
       "    </tr>\n",
       "  </thead>\n",
       "  <tbody>\n",
       "    <tr>\n",
       "      <th id=\"T_29cbc_level0_row0\" class=\"row_heading level0 row0\" >15</th>\n",
       "      <td id=\"T_29cbc_row0_col0\" class=\"data row0 col0\" >497</td>\n",
       "      <td id=\"T_29cbc_row0_col1\" class=\"data row0 col1\" >Outlander (Outlander  #1)</td>\n",
       "      <td id=\"T_29cbc_row0_col2\" class=\"data row0 col2\" >6</td>\n",
       "      <td id=\"T_29cbc_row0_col3\" class=\"data row0 col3\" >4.130000</td>\n",
       "    </tr>\n",
       "    <tr>\n",
       "      <th id=\"T_29cbc_level0_row1\" class=\"row_heading level0 row1\" >544</th>\n",
       "      <td id=\"T_29cbc_row1_col0\" class=\"data row1 col0\" >77</td>\n",
       "      <td id=\"T_29cbc_row1_col1\" class=\"data row1 col1\" >Angels Flight (Harry Bosch  #6; Harry Bosch Universe  #7)</td>\n",
       "      <td id=\"T_29cbc_row1_col2\" class=\"data row1 col2\" >2</td>\n",
       "      <td id=\"T_29cbc_row1_col3\" class=\"data row1 col3\" >4.500000</td>\n",
       "    </tr>\n",
       "    <tr>\n",
       "      <th id=\"T_29cbc_level0_row2\" class=\"row_heading level0 row2\" >413</th>\n",
       "      <td id=\"T_29cbc_row2_col0\" class=\"data row2 col0\" >764</td>\n",
       "      <td id=\"T_29cbc_row2_col1\" class=\"data row2 col1\" >The Island of Doctor Moreau</td>\n",
       "      <td id=\"T_29cbc_row2_col2\" class=\"data row2 col2\" >3</td>\n",
       "      <td id=\"T_29cbc_row2_col3\" class=\"data row2 col3\" >4.000000</td>\n",
       "    </tr>\n",
       "    <tr>\n",
       "      <th id=\"T_29cbc_level0_row3\" class=\"row_heading level0 row3\" >507</th>\n",
       "      <td id=\"T_29cbc_row3_col0\" class=\"data row3 col0\" >956</td>\n",
       "      <td id=\"T_29cbc_row3_col1\" class=\"data row3 col1\" >Vanity Fair</td>\n",
       "      <td id=\"T_29cbc_row3_col2\" class=\"data row3 col2\" >3</td>\n",
       "      <td id=\"T_29cbc_row3_col3\" class=\"data row3 col3\" >4.000000</td>\n",
       "    </tr>\n",
       "    <tr>\n",
       "      <th id=\"T_29cbc_level0_row4\" class=\"row_heading level0 row4\" >700</th>\n",
       "      <td id=\"T_29cbc_row4_col0\" class=\"data row4 col0\" >398</td>\n",
       "      <td id=\"T_29cbc_row4_col1\" class=\"data row4 col1\" >Little Town on the Prairie  (Little House  #7)</td>\n",
       "      <td id=\"T_29cbc_row4_col2\" class=\"data row4 col2\" >2</td>\n",
       "      <td id=\"T_29cbc_row4_col3\" class=\"data row4 col3\" >4.330000</td>\n",
       "    </tr>\n",
       "  </tbody>\n",
       "</table>\n"
      ],
      "text/plain": [
       "<pandas.io.formats.style.Styler at 0x1f3d4d59310>"
      ]
     },
     "execution_count": 14,
     "metadata": {},
     "output_type": "execute_result"
    }
   ],
   "source": [
    "query = '''\n",
    "SELECT b.book_id,\n",
    "b.title,\n",
    "count( DISTINCT r.review_id) AS cnt_reviews,\n",
    "round(avg(r2.rating), 2) AS avg_rating\n",
    "FROM books b \n",
    "LEFT JOIN reviews r ON  b.book_id = r.book_id \n",
    "LEFT JOIN ratings r2 ON b.book_id = r2.book_id \n",
    "GROUP BY b.book_id\n",
    "ORDER BY cnt_reviews DESC;'''\n",
    "get_sql_data(query).sample(5).style.set_caption('Кол-во обзоров и средняя оценка книг')"
   ]
  },
  {
   "cell_type": "markdown",
   "id": "cdca7b6c",
   "metadata": {},
   "source": [
    "При изучении таблицы \"books\" мы выяснили, что в ней содержится 1000 книг. Количество обзоров на книги варируется от 7 до 0. Также можно заметить, что средний рейтинг не зависит от количества обзоров на книгу.\n"
   ]
  },
  {
   "cell_type": "markdown",
   "id": "05a8fcef",
   "metadata": {},
   "source": [
    "**Определим издательство, которое выпустило наибольшее число книг толще 50 страниц - так исключим из анализа брошюры**"
   ]
  },
  {
   "cell_type": "code",
   "execution_count": 15,
   "id": "4a5397f0",
   "metadata": {},
   "outputs": [
    {
     "data": {
      "text/html": [
       "<style type=\"text/css\">\n",
       "</style>\n",
       "<table id=\"T_776af\">\n",
       "  <caption>Издательство выпустившее наибольшее число книг</caption>\n",
       "  <thead>\n",
       "    <tr>\n",
       "      <th class=\"blank level0\" >&nbsp;</th>\n",
       "      <th id=\"T_776af_level0_col0\" class=\"col_heading level0 col0\" >publisher_id</th>\n",
       "      <th id=\"T_776af_level0_col1\" class=\"col_heading level0 col1\" >publisher</th>\n",
       "      <th id=\"T_776af_level0_col2\" class=\"col_heading level0 col2\" >amount_of_books</th>\n",
       "    </tr>\n",
       "  </thead>\n",
       "  <tbody>\n",
       "    <tr>\n",
       "      <th id=\"T_776af_level0_row0\" class=\"row_heading level0 row0\" >0</th>\n",
       "      <td id=\"T_776af_row0_col0\" class=\"data row0 col0\" >212</td>\n",
       "      <td id=\"T_776af_row0_col1\" class=\"data row0 col1\" >Penguin Books</td>\n",
       "      <td id=\"T_776af_row0_col2\" class=\"data row0 col2\" >42</td>\n",
       "    </tr>\n",
       "  </tbody>\n",
       "</table>\n"
      ],
      "text/plain": [
       "<pandas.io.formats.style.Styler at 0x1f3d4d73cd0>"
      ]
     },
     "execution_count": 15,
     "metadata": {},
     "output_type": "execute_result"
    }
   ],
   "source": [
    "query = '''\n",
    "SELECT p.publisher_id,\n",
    "p.publisher,\n",
    "count(b.book_id) AS amount_of_books\n",
    "FROM publishers p \n",
    "INNER JOIN books b ON p.publisher_id = b.publisher_id \n",
    "WHERE b.num_pages > 50\n",
    "GROUP BY p.publisher_id\n",
    "ORDER BY count(b.book_id) DESC \n",
    "LIMIT 1;'''\n",
    "get_sql_data(query).style.set_caption('Издательство выпустившее наибольшее число книг')"
   ]
  },
  {
   "cell_type": "markdown",
   "id": "71aa1ca0",
   "metadata": {},
   "source": [
    "Издательство, выпустившее наибольшее количество книг толще 50 страниц - британское издательство \"Penguin Books\". Количество выпущенных книг равняется 42. "
   ]
  },
  {
   "cell_type": "markdown",
   "id": "b6406de9",
   "metadata": {},
   "source": [
    "**Определим автора с самой высокой средней оценкой книг - учитываем только книги с 50 и более оценками**"
   ]
  },
  {
   "cell_type": "code",
   "execution_count": 16,
   "id": "e0d79d7e",
   "metadata": {},
   "outputs": [
    {
     "data": {
      "text/html": [
       "<style type=\"text/css\">\n",
       "</style>\n",
       "<table id=\"T_521be\">\n",
       "  <caption>Автор с самой высокой средней оценкой книг</caption>\n",
       "  <thead>\n",
       "    <tr>\n",
       "      <th class=\"blank level0\" >&nbsp;</th>\n",
       "      <th id=\"T_521be_level0_col0\" class=\"col_heading level0 col0\" >author_id</th>\n",
       "      <th id=\"T_521be_level0_col1\" class=\"col_heading level0 col1\" >author</th>\n",
       "      <th id=\"T_521be_level0_col2\" class=\"col_heading level0 col2\" >overall_avg_rating</th>\n",
       "    </tr>\n",
       "  </thead>\n",
       "  <tbody>\n",
       "    <tr>\n",
       "      <th id=\"T_521be_level0_row0\" class=\"row_heading level0 row0\" >0</th>\n",
       "      <td id=\"T_521be_row0_col0\" class=\"data row0 col0\" >236</td>\n",
       "      <td id=\"T_521be_row0_col1\" class=\"data row0 col1\" >J.K. Rowling/Mary GrandPré</td>\n",
       "      <td id=\"T_521be_row0_col2\" class=\"data row0 col2\" >4.285000</td>\n",
       "    </tr>\n",
       "  </tbody>\n",
       "</table>\n"
      ],
      "text/plain": [
       "<pandas.io.formats.style.Styler at 0x1f3d4d6e450>"
      ]
     },
     "execution_count": 16,
     "metadata": {},
     "output_type": "execute_result"
    }
   ],
   "source": [
    "#Сначала отберем книгис оценками 50 и более, \n",
    "#а потом определим автора с наивысшей средней оценкой книг\n",
    "query = '''\n",
    "WITH top_books AS (\n",
    "    SELECT b.author_id,   \n",
    "    round(avg(r.rating), 2) AS avg_rating\n",
    "    FROM books b\n",
    "    INNER JOIN ratings r ON b.book_id = r.book_id\n",
    "    GROUP BY b.book_id \n",
    "    HAVING count(r.rating_id) >= 50\n",
    "    ORDER BY b.author_id\n",
    ")\n",
    "SELECT a.author_id,\n",
    "a.author,\n",
    "avg(tb.avg_rating) AS overall_avg_rating\n",
    "FROM authors a\n",
    "INNER JOIN top_books tb ON a.author_id = tb.author_id\n",
    "GROUP BY a.author_id\n",
    "ORDER BY avg(tb.avg_rating) DESC\n",
    "LIMIT 1\n",
    "'''\n",
    "get_sql_data(query).style.set_caption('Автор с самой высокой средней оценкой книг')"
   ]
  },
  {
   "cell_type": "markdown",
   "id": "80abcfa4",
   "metadata": {},
   "source": [
    "Автором с самой высокой средней оценкой книг **4.285** является британская писательница **Джоан Роулинг**. Она известна своей серией книг и Гарри Поттере. В тандеме с ней находится американская иллюстратор **Мэри Гранпрэ**, наиболее известная своими иллюстрациями обложек и глав книг о Гарри Поттере в их американских изданиях, опубликованных Scholastic."
   ]
  },
  {
   "cell_type": "markdown",
   "id": "2a75a961",
   "metadata": {},
   "source": [
    "**Посчитаем среднее количество обзоров от пользователей, которые поставили больше 48 оценок**"
   ]
  },
  {
   "cell_type": "code",
   "execution_count": 17,
   "id": "4916c689",
   "metadata": {},
   "outputs": [
    {
     "data": {
      "text/html": [
       "<style type=\"text/css\">\n",
       "</style>\n",
       "<table id=\"T_cb217\">\n",
       "  <caption>Среднее кол-во обзоров</caption>\n",
       "  <thead>\n",
       "    <tr>\n",
       "      <th class=\"blank level0\" >&nbsp;</th>\n",
       "      <th id=\"T_cb217_level0_col0\" class=\"col_heading level0 col0\" >avg_reviews</th>\n",
       "    </tr>\n",
       "  </thead>\n",
       "  <tbody>\n",
       "    <tr>\n",
       "      <th id=\"T_cb217_level0_row0\" class=\"row_heading level0 row0\" >0</th>\n",
       "      <td id=\"T_cb217_row0_col0\" class=\"data row0 col0\" >24</td>\n",
       "    </tr>\n",
       "  </tbody>\n",
       "</table>\n"
      ],
      "text/plain": [
       "<pandas.io.formats.style.Styler at 0x1f3cee4a690>"
      ]
     },
     "execution_count": 17,
     "metadata": {},
     "output_type": "execute_result"
    }
   ],
   "source": [
    "query = '''\n",
    "SELECT count(DISTINCT r2.review_id) / count(DISTINCT r2.username) AS avg_reviews\n",
    "FROM ratings r\n",
    "INNER JOIN reviews r2 ON r.username = r2.username\n",
    "WHERE r.username in ( \n",
    "                    SELECT username\n",
    "                    FROM ratings\n",
    "                    GROUP BY username\n",
    "                    HAVING COUNT(rating_id) > 48\n",
    "                    );'''\n",
    "get_sql_data(query).style.set_caption('Среднее кол-во обзоров')"
   ]
  },
  {
   "cell_type": "markdown",
   "id": "3af71e56",
   "metadata": {},
   "source": [
    "В среднем пользователей, которые поставили больше 48 оценок книгам, написали **24 обзора** на книги. "
   ]
  },
  {
   "cell_type": "markdown",
   "id": "7a3290da",
   "metadata": {},
   "source": [
    "### Вывод:\n",
    "\n",
    "В данной работе был произведен анализ крупного сервиса для чтения книг по подписке. Данные в предоставленных таблицах соответствовали заявленым. При проведении анализа было выяснено, что в приложении содержится 1000 книг от 636 авторов. При этом 819 книг и брошюр было выпущено после 2000 года.\n",
    "\n",
    "Было выяснено то, что книги имеют рейтинг и обзоры (обзоры есть не на все из них), а также, что рейтинг книги не зависит от количества обзоров на нее, так как рейтинг книги отражает оценку пользователей разных вкусовых предпочтений.\n",
    "\n",
    "Из всех издательств представленных в базе самым популярным является издательство \"Pinguin books\", оно выпустило наибольшее количество книг. А самым популярным автором с рейтингом 4.29 является Джоан Роулинг с ее серией книг о Гарри Поттере.\n",
    "\n",
    "Также было выяснено, что наиболее активные пользователи приложения, поставившие больше 48 оценок книгам, в среднем написали 24 обзора на книги.\n",
    "\n",
    "**Рекомендации:**\n",
    "\n",
    "На основании вышеизложенного, для успеха приложения по чтению книг, можно расширить базу книжными новинками. Поскольку популярны книги Джоан Роулинг, можно добавить в приложение ее книги на разных языках, например в оригинале или добавить книги о том, как создавалась ее популярная серия книг. \n",
    "\n",
    "Также можно добавить больше книг от издательства Pinguin books. Так как это издательство известно тем, что сделало книги доступными для большого числа людей, а не оставило книги роскошью. Поэтому у них можно найти книги по доступным для читателей ценам. \n",
    "\n",
    "Можно добавить дополнительный рейтинг книгам. Сейчас рейтинг формируется на основании оценок пользователей, а вкусы у пользователей могут быть разными, сложно дать объективную оценку, поэтому можно добавить к популярным книгам рейтинги критиков или добавить плашку что книга входит, например, в \"Топ-100\" лучших или популярных книг."
   ]
  }
 ],
 "metadata": {
  "kernelspec": {
   "display_name": "Python 3.9.5 64-bit",
   "language": "python",
   "name": "python3"
  },
  "language_info": {
   "codemirror_mode": {
    "name": "ipython",
    "version": 3
   },
   "file_extension": ".py",
   "mimetype": "text/x-python",
   "name": "python",
   "nbconvert_exporter": "python",
   "pygments_lexer": "ipython3",
   "version": "3.9.5"
  },
  "vscode": {
   "interpreter": {
    "hash": "69e3bd19d1f773d79467db142792ae9c8bcd6d8345b81bac57b6c441fb59fc6a"
   }
  }
 },
 "nbformat": 4,
 "nbformat_minor": 5
}
